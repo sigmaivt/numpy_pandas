{
 "cells": [
  {
   "cell_type": "markdown",
   "id": "1711d2ff",
   "metadata": {},
   "source": [
    "# Урок 4. Видеоурок. Визуализация данных в Matplotlib."
   ]
  },
  {
   "cell_type": "markdown",
   "id": "44d40290",
   "metadata": {},
   "source": [
    "## Задание на повторение материала"
   ]
  },
  {
   "cell_type": "code",
   "execution_count": 2,
   "id": "2a966be2",
   "metadata": {},
   "outputs": [],
   "source": [
    "import numpy as np\n",
    "import pandas as pd"
   ]
  },
  {
   "cell_type": "markdown",
   "id": "12cac653",
   "metadata": {},
   "source": [
    "### № 1"
   ]
  },
  {
   "cell_type": "code",
   "execution_count": 4,
   "id": "253743fe",
   "metadata": {},
   "outputs": [
    {
     "data": {
      "text/plain": [
       "array([12, 13, 14, 15, 16, 17, 18, 19, 20, 21, 22, 23])"
      ]
     },
     "execution_count": 4,
     "metadata": {},
     "output_type": "execute_result"
    }
   ],
   "source": [
    "a = np.arange(12, 24)\n",
    "a"
   ]
  },
  {
   "cell_type": "markdown",
   "id": "05b3bfb0",
   "metadata": {},
   "source": [
    "## № 2"
   ]
  },
  {
   "cell_type": "code",
   "execution_count": 16,
   "id": "4832c523",
   "metadata": {
    "scrolled": true
   },
   "outputs": [],
   "source": [
    "a2_1 = a.reshape(2,6)\n",
    "a2_2 = a.reshape(3,4)\n",
    "a2_3 = a.reshape(4,3)\n",
    "a2_4 = a.reshape(6,2)\n",
    "a2_5 = a.reshape(12,1)"
   ]
  },
  {
   "cell_type": "code",
   "execution_count": 20,
   "id": "9fcc9300",
   "metadata": {},
   "outputs": [
    {
     "name": "stdout",
     "output_type": "stream",
     "text": [
      "[[12 13 14 15 16 17]\n",
      " [18 19 20 21 22 23]] \n",
      "\n",
      " [[12 13 14 15]\n",
      " [16 17 18 19]\n",
      " [20 21 22 23]] \n",
      "\n",
      " [[12 13 14]\n",
      " [15 16 17]\n",
      " [18 19 20]\n",
      " [21 22 23]] \n",
      "\n",
      " [[12 13]\n",
      " [14 15]\n",
      " [16 17]\n",
      " [18 19]\n",
      " [20 21]\n",
      " [22 23]] \n",
      "\n",
      " [[12]\n",
      " [13]\n",
      " [14]\n",
      " [15]\n",
      " [16]\n",
      " [17]\n",
      " [18]\n",
      " [19]\n",
      " [20]\n",
      " [21]\n",
      " [22]\n",
      " [23]]\n"
     ]
    }
   ],
   "source": [
    "print(a2_1,'\\n\\n', a2_2,'\\n\\n', a2_3, '\\n\\n', a2_4, '\\n\\n', a2_5)"
   ]
  },
  {
   "cell_type": "markdown",
   "id": "e42c5db4",
   "metadata": {},
   "source": [
    "## № 3"
   ]
  },
  {
   "cell_type": "code",
   "execution_count": 24,
   "id": "8a1c585b",
   "metadata": {},
   "outputs": [],
   "source": [
    "a3_1 = a.reshape(2,-1)\n",
    "a3_2 = a.reshape(3,-1)\n",
    "a3_3 = a.reshape(4,-1)\n",
    "a3_4 = a.reshape(-1,2)\n",
    "a3_5 = a.reshape(-1,1)"
   ]
  },
  {
   "cell_type": "code",
   "execution_count": 25,
   "id": "a3403f46",
   "metadata": {},
   "outputs": [
    {
     "name": "stdout",
     "output_type": "stream",
     "text": [
      "[[12 13 14 15 16 17]\n",
      " [18 19 20 21 22 23]] \n",
      "\n",
      " [[12 13 14 15]\n",
      " [16 17 18 19]\n",
      " [20 21 22 23]] \n",
      "\n",
      " [[12 13 14]\n",
      " [15 16 17]\n",
      " [18 19 20]\n",
      " [21 22 23]] \n",
      "\n",
      " [[12 13]\n",
      " [14 15]\n",
      " [16 17]\n",
      " [18 19]\n",
      " [20 21]\n",
      " [22 23]] \n",
      "\n",
      " [[12]\n",
      " [13]\n",
      " [14]\n",
      " [15]\n",
      " [16]\n",
      " [17]\n",
      " [18]\n",
      " [19]\n",
      " [20]\n",
      " [21]\n",
      " [22]\n",
      " [23]]\n"
     ]
    }
   ],
   "source": [
    "print(a3_1,'\\n\\n', a3_2,'\\n\\n', a3_3, '\\n\\n', a3_4, '\\n\\n', a3_5)"
   ]
  },
  {
   "cell_type": "markdown",
   "id": "c54a21b5",
   "metadata": {},
   "source": [
    "## № 4"
   ]
  },
  {
   "cell_type": "code",
   "execution_count": 28,
   "id": "313bcf39",
   "metadata": {},
   "outputs": [
    {
     "data": {
      "text/plain": [
       "2"
      ]
     },
     "execution_count": 28,
     "metadata": {},
     "output_type": "execute_result"
    }
   ],
   "source": [
    "a3_5.ndim"
   ]
  },
  {
   "cell_type": "markdown",
   "id": "f36824b8",
   "metadata": {},
   "source": [
    "### не можем"
   ]
  },
  {
   "cell_type": "markdown",
   "id": "7080f1cf",
   "metadata": {},
   "source": [
    "## № 5"
   ]
  },
  {
   "cell_type": "code",
   "execution_count": 36,
   "id": "86b89d2a",
   "metadata": {},
   "outputs": [
    {
     "name": "stdout",
     "output_type": "stream",
     "text": [
      "[[-0.34694676  0.59602064  0.27732898 -0.41832494]\n",
      " [ 0.28125116 -0.57124734 -0.14796427 -0.32424813]\n",
      " [ 0.16573375 -0.4400928  -1.9176093   0.74386042]] \n",
      "\n",
      " 12\n"
     ]
    }
   ],
   "source": [
    "a5 = np.random.randn(3, 4)\n",
    "print(a5, '\\n\\n', a5.size)"
   ]
  },
  {
   "cell_type": "code",
   "execution_count": 37,
   "id": "1a3d7fb8",
   "metadata": {},
   "outputs": [
    {
     "name": "stdout",
     "output_type": "stream",
     "text": [
      "[-0.34694676  0.59602064  0.27732898 -0.41832494  0.28125116 -0.57124734\n",
      " -0.14796427 -0.32424813  0.16573375 -0.4400928  -1.9176093   0.74386042] \n",
      "\n",
      " 12\n"
     ]
    }
   ],
   "source": [
    "a5_flat = a5.flatten()\n",
    "print(a5_flat, '\\n\\n', a5_flat.size)"
   ]
  },
  {
   "cell_type": "markdown",
   "id": "ea828f10",
   "metadata": {},
   "source": [
    "## № 6"
   ]
  },
  {
   "cell_type": "code",
   "execution_count": 3,
   "id": "bd942232",
   "metadata": {},
   "outputs": [
    {
     "name": "stdout",
     "output_type": "stream",
     "text": [
      "[20 18 16 14 12 10  8  6  4  2]\n"
     ]
    }
   ],
   "source": [
    "a = np.arange(20, 0, -2)\n",
    "print(a)"
   ]
  },
  {
   "cell_type": "code",
   "execution_count": 8,
   "id": "7b5bad68",
   "metadata": {},
   "outputs": [
    {
     "data": {
      "text/plain": [
       "(12,)"
      ]
     },
     "execution_count": 8,
     "metadata": {},
     "output_type": "execute_result"
    }
   ],
   "source": [
    "a.shape"
   ]
  },
  {
   "cell_type": "code",
   "execution_count": 10,
   "id": "6c2a600c",
   "metadata": {},
   "outputs": [
    {
     "data": {
      "text/plain": [
       "12"
      ]
     },
     "execution_count": 10,
     "metadata": {},
     "output_type": "execute_result"
    }
   ],
   "source": [
    "a.size"
   ]
  },
  {
   "cell_type": "markdown",
   "id": "693c5c39",
   "metadata": {},
   "source": [
    "## № 7"
   ]
  },
  {
   "cell_type": "code",
   "execution_count": 12,
   "id": "abfc7982",
   "metadata": {
    "scrolled": true
   },
   "outputs": [
    {
     "name": "stdout",
     "output_type": "stream",
     "text": [
      "[20 18 16 14 12 10  8  6  4  2]\n"
     ]
    }
   ],
   "source": [
    "b = np.arange(20, 1, -2)\n",
    "print(b)"
   ]
  },
  {
   "cell_type": "code",
   "execution_count": 6,
   "id": "c24a9e82",
   "metadata": {},
   "outputs": [],
   "source": [
    "b.resize(1,10)"
   ]
  },
  {
   "cell_type": "code",
   "execution_count": 7,
   "id": "312a3f19",
   "metadata": {},
   "outputs": [
    {
     "name": "stdout",
     "output_type": "stream",
     "text": [
      "[[20 18 16 14 12 10  8  6  4  2]]\n"
     ]
    }
   ],
   "source": [
    "print(b)"
   ]
  },
  {
   "cell_type": "code",
   "execution_count": 9,
   "id": "2244871b",
   "metadata": {},
   "outputs": [
    {
     "data": {
      "text/plain": [
       "(1, 10)"
      ]
     },
     "execution_count": 9,
     "metadata": {},
     "output_type": "execute_result"
    }
   ],
   "source": [
    "b.shape"
   ]
  },
  {
   "cell_type": "code",
   "execution_count": 11,
   "id": "6471e864",
   "metadata": {},
   "outputs": [
    {
     "data": {
      "text/plain": [
       "10"
      ]
     },
     "execution_count": 11,
     "metadata": {},
     "output_type": "execute_result"
    }
   ],
   "source": [
    "b.size"
   ]
  },
  {
   "cell_type": "markdown",
   "id": "4fb71550",
   "metadata": {},
   "source": [
    "## № 8"
   ]
  },
  {
   "cell_type": "code",
   "execution_count": 14,
   "id": "62dd54f3",
   "metadata": {},
   "outputs": [],
   "source": [
    "a = np.zeros((2, 2))\n",
    "b = np.ones((3, 2))"
   ]
  },
  {
   "cell_type": "code",
   "execution_count": 15,
   "id": "bbc56441",
   "metadata": {},
   "outputs": [],
   "source": [
    "v = np.vstack((a, b))"
   ]
  },
  {
   "cell_type": "code",
   "execution_count": 16,
   "id": "3231af78",
   "metadata": {},
   "outputs": [
    {
     "name": "stdout",
     "output_type": "stream",
     "text": [
      "[[0. 0.]\n",
      " [0. 0.]\n",
      " [1. 1.]\n",
      " [1. 1.]\n",
      " [1. 1.]]\n"
     ]
    },
    {
     "data": {
      "text/plain": [
       "10"
      ]
     },
     "execution_count": 16,
     "metadata": {},
     "output_type": "execute_result"
    }
   ],
   "source": [
    "print(v)\n",
    "v.size"
   ]
  },
  {
   "cell_type": "markdown",
   "id": "564b610f",
   "metadata": {},
   "source": [
    "## № 9"
   ]
  },
  {
   "cell_type": "code",
   "execution_count": 41,
   "id": "a984bfd4",
   "metadata": {},
   "outputs": [
    {
     "name": "stdout",
     "output_type": "stream",
     "text": [
      "[ 0  1  2  3  4  5  6  7  8  9 10 11]\n"
     ]
    }
   ],
   "source": [
    "a = np.arange(0, 12)\n",
    "print(a)"
   ]
  },
  {
   "cell_type": "code",
   "execution_count": 42,
   "id": "8356158f",
   "metadata": {},
   "outputs": [
    {
     "data": {
      "text/plain": [
       "array([[ 0,  1,  2],\n",
       "       [ 3,  4,  5],\n",
       "       [ 6,  7,  8],\n",
       "       [ 9, 10, 11]])"
      ]
     },
     "execution_count": 42,
     "metadata": {},
     "output_type": "execute_result"
    }
   ],
   "source": [
    "A = a.reshape(4, 3)\n",
    "A"
   ]
  },
  {
   "cell_type": "code",
   "execution_count": 43,
   "id": "a7538e56",
   "metadata": {},
   "outputs": [
    {
     "name": "stdout",
     "output_type": "stream",
     "text": [
      "[[ 0  3  6  9]\n",
      " [ 1  4  7 10]\n",
      " [ 2  5  8 11]]\n"
     ]
    }
   ],
   "source": [
    "A_t = A.T\n",
    "print(A_t)"
   ]
  },
  {
   "cell_type": "code",
   "execution_count": 44,
   "id": "df866b6d",
   "metadata": {},
   "outputs": [
    {
     "data": {
      "text/plain": [
       "array([[  5,  14,  23,  32],\n",
       "       [ 14,  50,  86, 122],\n",
       "       [ 23,  86, 149, 212],\n",
       "       [ 32, 122, 212, 302]])"
      ]
     },
     "execution_count": 44,
     "metadata": {},
     "output_type": "execute_result"
    }
   ],
   "source": [
    "B = A.dot(A_t)\n",
    "B"
   ]
  },
  {
   "cell_type": "code",
   "execution_count": 45,
   "id": "6bd7eed7",
   "metadata": {},
   "outputs": [
    {
     "name": "stdout",
     "output_type": "stream",
     "text": [
      "0.0\n"
     ]
    }
   ],
   "source": [
    "print(np.linalg.det(B))"
   ]
  },
  {
   "cell_type": "markdown",
   "id": "b140344b",
   "metadata": {},
   "source": [
    "### Определитель матрицы равен 0. Обратной матрицы не существует"
   ]
  },
  {
   "cell_type": "markdown",
   "id": "fc208bfe",
   "metadata": {},
   "source": [
    "## № 10"
   ]
  },
  {
   "cell_type": "code",
   "execution_count": 47,
   "id": "cbcf4d34",
   "metadata": {},
   "outputs": [],
   "source": [
    "np.random.seed(42)"
   ]
  },
  {
   "cell_type": "markdown",
   "id": "f9d44681",
   "metadata": {},
   "source": [
    "## № 11"
   ]
  },
  {
   "cell_type": "code",
   "execution_count": 48,
   "id": "d4410312",
   "metadata": {},
   "outputs": [
    {
     "data": {
      "text/plain": [
       "array([ 6,  3, 12, 14, 10,  7, 12,  4,  6,  9,  2,  6, 10, 10,  7,  4])"
      ]
     },
     "execution_count": 48,
     "metadata": {},
     "output_type": "execute_result"
    }
   ],
   "source": [
    "c = np.random.randint(0, 16, 16)\n",
    "c"
   ]
  },
  {
   "cell_type": "markdown",
   "id": "496efd1e",
   "metadata": {},
   "source": [
    "##  № 12"
   ]
  },
  {
   "cell_type": "code",
   "execution_count": 49,
   "id": "0c976812",
   "metadata": {},
   "outputs": [
    {
     "data": {
      "text/plain": [
       "array([[ 6,  3, 12, 14],\n",
       "       [10,  7, 12,  4],\n",
       "       [ 6,  9,  2,  6],\n",
       "       [10, 10,  7,  4]])"
      ]
     },
     "execution_count": 49,
     "metadata": {},
     "output_type": "execute_result"
    }
   ],
   "source": [
    "C = c.reshape(4, 4)\n",
    "C"
   ]
  },
  {
   "cell_type": "code",
   "execution_count": 60,
   "id": "2628e967",
   "metadata": {},
   "outputs": [
    {
     "data": {
      "text/plain": [
       "array([[  56,  143,  242,  334],\n",
       "       [ 150,  507,  872, 1224],\n",
       "       [ 236,  869, 1492, 2126],\n",
       "       [ 330, 1230, 2127, 3024]])"
      ]
     },
     "execution_count": 60,
     "metadata": {},
     "output_type": "execute_result"
    }
   ],
   "source": [
    "D = C + B * 10\n",
    "D"
   ]
  },
  {
   "cell_type": "code",
   "execution_count": 61,
   "id": "d00652eb",
   "metadata": {},
   "outputs": [
    {
     "name": "stdout",
     "output_type": "stream",
     "text": [
      "-1741607.9999999756\n"
     ]
    }
   ],
   "source": [
    "d = np.linalg.det(D)\n",
    "\n",
    "print(d)"
   ]
  },
  {
   "cell_type": "code",
   "execution_count": 62,
   "id": "d80c910c",
   "metadata": {},
   "outputs": [
    {
     "name": "stdout",
     "output_type": "stream",
     "text": [
      "4\n"
     ]
    }
   ],
   "source": [
    "r = np.linalg.matrix_rank(D)\n",
    "\n",
    "print(r)"
   ]
  },
  {
   "cell_type": "code",
   "execution_count": 63,
   "id": "b514ccc3",
   "metadata": {},
   "outputs": [
    {
     "name": "stdout",
     "output_type": "stream",
     "text": [
      "[[ 0.135368   -0.09412681 -0.0250975   0.04079219]\n",
      " [-0.17297808  0.16351785  0.1740805  -0.16946638]\n",
      " [-0.05802224  0.09496052 -0.10651536  0.04285695]\n",
      " [ 0.09639712 -0.12303113  0.00685229  0.03466452]]\n"
     ]
    }
   ],
   "source": [
    "D_inv = np.linalg.inv(D)\n",
    "\n",
    "print(D_inv)"
   ]
  },
  {
   "cell_type": "markdown",
   "id": "75aba99f",
   "metadata": {},
   "source": [
    "## № 13"
   ]
  },
  {
   "cell_type": "code",
   "execution_count": 64,
   "id": "87fdce53",
   "metadata": {},
   "outputs": [
    {
     "data": {
      "text/plain": [
       "(array([0, 0, 1, 1, 2, 2, 3], dtype=int64),\n",
       " array([1, 2, 0, 3, 0, 2, 1], dtype=int64))"
      ]
     },
     "execution_count": 64,
     "metadata": {},
     "output_type": "execute_result"
    }
   ],
   "source": [
    "ind1 = np.where(D_inv < 0)\n",
    "ind1"
   ]
  },
  {
   "cell_type": "code",
   "execution_count": 65,
   "id": "0202886e",
   "metadata": {},
   "outputs": [
    {
     "data": {
      "text/plain": [
       "array([[0.135368  , 0.        , 0.        , 0.04079219],\n",
       "       [0.        , 0.16351785, 0.1740805 , 0.        ],\n",
       "       [0.        , 0.09496052, 0.        , 0.04285695],\n",
       "       [0.09639712, 0.        , 0.00685229, 0.03466452]])"
      ]
     },
     "execution_count": 65,
     "metadata": {},
     "output_type": "execute_result"
    }
   ],
   "source": [
    "D_inv[ind1] = 0\n",
    "D_inv"
   ]
  },
  {
   "cell_type": "code",
   "execution_count": 66,
   "id": "9d95f766",
   "metadata": {},
   "outputs": [
    {
     "data": {
      "text/plain": [
       "(array([0, 0, 1, 1, 2, 2, 3, 3, 3], dtype=int64),\n",
       " array([0, 3, 1, 2, 1, 3, 0, 2, 3], dtype=int64))"
      ]
     },
     "execution_count": 66,
     "metadata": {},
     "output_type": "execute_result"
    }
   ],
   "source": [
    "ind2 = np.where(D_inv > 0)\n",
    "ind2"
   ]
  },
  {
   "cell_type": "code",
   "execution_count": 67,
   "id": "9f613300",
   "metadata": {},
   "outputs": [
    {
     "data": {
      "text/plain": [
       "array([[1., 0., 0., 1.],\n",
       "       [0., 1., 1., 0.],\n",
       "       [0., 1., 0., 1.],\n",
       "       [1., 0., 1., 1.]])"
      ]
     },
     "execution_count": 67,
     "metadata": {},
     "output_type": "execute_result"
    }
   ],
   "source": [
    "D_inv[ind2] = 1\n",
    "D_inv"
   ]
  },
  {
   "cell_type": "code",
   "execution_count": 68,
   "id": "cac2611f",
   "metadata": {},
   "outputs": [
    {
     "data": {
      "text/plain": [
       "array([[  5,   3,  12,  32],\n",
       "       [ 10,  50,  86,   4],\n",
       "       [  6,  86,   2, 212],\n",
       "       [ 32,  10, 212, 302]])"
      ]
     },
     "execution_count": 68,
     "metadata": {},
     "output_type": "execute_result"
    }
   ],
   "source": [
    "E = np.where(D_inv, B, C)\n",
    "E"
   ]
  },
  {
   "cell_type": "code",
   "execution_count": null,
   "id": "36031bac",
   "metadata": {},
   "outputs": [],
   "source": []
  }
 ],
 "metadata": {
  "kernelspec": {
   "display_name": "Python 3 (ipykernel)",
   "language": "python",
   "name": "python3"
  },
  "language_info": {
   "codemirror_mode": {
    "name": "ipython",
    "version": 3
   },
   "file_extension": ".py",
   "mimetype": "text/x-python",
   "name": "python",
   "nbconvert_exporter": "python",
   "pygments_lexer": "ipython3",
   "version": "3.9.12"
  }
 },
 "nbformat": 4,
 "nbformat_minor": 5
}
