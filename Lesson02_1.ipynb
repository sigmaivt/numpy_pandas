{
 "cells": [
  {
   "cell_type": "markdown",
   "id": "c3baab3c",
   "metadata": {},
   "source": [
    "## Урок 2. Тема “Вычисления с помощью Numpy”"
   ]
  },
  {
   "cell_type": "markdown",
   "id": "1e1c2977",
   "metadata": {},
   "source": [
    "## Задание № 1"
   ]
  },
  {
   "cell_type": "code",
   "execution_count": 12,
   "id": "4d3722be",
   "metadata": {},
   "outputs": [],
   "source": [
    "import numpy as np\n",
    "a = np.array([[1, 6], [2, 8],[3, 11], [3, 10], [1, 7]])"
   ]
  },
  {
   "cell_type": "code",
   "execution_count": 13,
   "id": "21c5139d",
   "metadata": {},
   "outputs": [
    {
     "data": {
      "text/plain": [
       "array([[ 1,  6],\n",
       "       [ 2,  8],\n",
       "       [ 3, 11],\n",
       "       [ 3, 10],\n",
       "       [ 1,  7]])"
      ]
     },
     "execution_count": 13,
     "metadata": {},
     "output_type": "execute_result"
    }
   ],
   "source": [
    "a"
   ]
  },
  {
   "cell_type": "code",
   "execution_count": 14,
   "id": "00398122",
   "metadata": {},
   "outputs": [],
   "source": [
    "mean_a = a.mean(axis=0)"
   ]
  },
  {
   "cell_type": "code",
   "execution_count": 15,
   "id": "77ba56c6",
   "metadata": {},
   "outputs": [
    {
     "data": {
      "text/plain": [
       "array([2. , 8.4])"
      ]
     },
     "execution_count": 15,
     "metadata": {},
     "output_type": "execute_result"
    }
   ],
   "source": [
    "mean_a"
   ]
  },
  {
   "cell_type": "markdown",
   "id": "60fea5d2",
   "metadata": {},
   "source": [
    "## Задание № 2"
   ]
  },
  {
   "cell_type": "code",
   "execution_count": 16,
   "id": "6c707e91",
   "metadata": {},
   "outputs": [],
   "source": [
    "a_centered = a - mean_a"
   ]
  },
  {
   "cell_type": "code",
   "execution_count": 17,
   "id": "91177d84",
   "metadata": {},
   "outputs": [
    {
     "data": {
      "text/plain": [
       "array([[-1. , -2.4],\n",
       "       [ 0. , -0.4],\n",
       "       [ 1. ,  2.6],\n",
       "       [ 1. ,  1.6],\n",
       "       [-1. , -1.4]])"
      ]
     },
     "execution_count": 17,
     "metadata": {},
     "output_type": "execute_result"
    }
   ],
   "source": [
    "a_centered"
   ]
  },
  {
   "cell_type": "code",
   "execution_count": 18,
   "id": "7d06f225",
   "metadata": {},
   "outputs": [
    {
     "data": {
      "text/plain": [
       "array([-2.4, -0.4,  2.6,  1.6, -1.4])"
      ]
     },
     "execution_count": 18,
     "metadata": {},
     "output_type": "execute_result"
    }
   ],
   "source": [
    "a_centered[:,1]"
   ]
  },
  {
   "cell_type": "markdown",
   "id": "e14fbeee",
   "metadata": {},
   "source": [
    "## Задание № 3"
   ]
  },
  {
   "cell_type": "code",
   "execution_count": 19,
   "id": "77f78f24",
   "metadata": {},
   "outputs": [],
   "source": [
    "a_centered_sp = a_centered[:,0] @ a_centered[:,1]"
   ]
  },
  {
   "cell_type": "code",
   "execution_count": 20,
   "id": "7e25012f",
   "metadata": {},
   "outputs": [],
   "source": [
    "result = a_centered_sp/(5-1)"
   ]
  },
  {
   "cell_type": "code",
   "execution_count": 21,
   "id": "2e7d2515",
   "metadata": {},
   "outputs": [
    {
     "data": {
      "text/plain": [
       "2.0"
      ]
     },
     "execution_count": 21,
     "metadata": {},
     "output_type": "execute_result"
    }
   ],
   "source": [
    "result"
   ]
  },
  {
   "cell_type": "markdown",
   "id": "71629b80",
   "metadata": {},
   "source": [
    "## Задание № 4"
   ]
  },
  {
   "cell_type": "code",
   "execution_count": 22,
   "id": "96eeebde",
   "metadata": {},
   "outputs": [],
   "source": [
    "a_tr = np.transpose(a)"
   ]
  },
  {
   "cell_type": "code",
   "execution_count": 23,
   "id": "9baa4baf",
   "metadata": {},
   "outputs": [
    {
     "data": {
      "text/plain": [
       "array([[ 1,  2,  3,  3,  1],\n",
       "       [ 6,  8, 11, 10,  7]])"
      ]
     },
     "execution_count": 23,
     "metadata": {},
     "output_type": "execute_result"
    }
   ],
   "source": [
    "a_tr"
   ]
  },
  {
   "cell_type": "code",
   "execution_count": 24,
   "id": "e8202c0a",
   "metadata": {},
   "outputs": [],
   "source": [
    "a_cov = np.cov(a_tr)"
   ]
  },
  {
   "cell_type": "code",
   "execution_count": 25,
   "id": "3cbbe4d9",
   "metadata": {},
   "outputs": [
    {
     "data": {
      "text/plain": [
       "array([[1. , 2. ],\n",
       "       [2. , 4.3]])"
      ]
     },
     "execution_count": 25,
     "metadata": {},
     "output_type": "execute_result"
    }
   ],
   "source": [
    "a_cov"
   ]
  },
  {
   "cell_type": "code",
   "execution_count": 26,
   "id": "1a25b14c",
   "metadata": {},
   "outputs": [],
   "source": [
    "result_cov = a_cov[0, 1]"
   ]
  },
  {
   "cell_type": "code",
   "execution_count": 27,
   "id": "c51db1fa",
   "metadata": {},
   "outputs": [
    {
     "data": {
      "text/plain": [
       "2.0"
      ]
     },
     "execution_count": 27,
     "metadata": {},
     "output_type": "execute_result"
    }
   ],
   "source": [
    "result_cov"
   ]
  },
  {
   "cell_type": "code",
   "execution_count": 28,
   "id": "04d657bb",
   "metadata": {},
   "outputs": [
    {
     "data": {
      "text/plain": [
       "True"
      ]
     },
     "execution_count": 28,
     "metadata": {},
     "output_type": "execute_result"
    }
   ],
   "source": [
    "result == result_cov"
   ]
  }
 ],
 "metadata": {
  "kernelspec": {
   "display_name": "Python 3 (ipykernel)",
   "language": "python",
   "name": "python3"
  },
  "language_info": {
   "codemirror_mode": {
    "name": "ipython",
    "version": 3
   },
   "file_extension": ".py",
   "mimetype": "text/x-python",
   "name": "python",
   "nbconvert_exporter": "python",
   "pygments_lexer": "ipython3",
   "version": "3.9.12"
  }
 },
 "nbformat": 4,
 "nbformat_minor": 5
}
